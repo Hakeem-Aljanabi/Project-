{
 "cells": [
  {
   "cell_type": "code",
   "execution_count": 1,
   "id": "a6c9efe0",
   "metadata": {},
   "outputs": [],
   "source": [
    "import pandas as pd\n",
    "import numpy as np\n",
    "import seaborn as sns\n",
    "import matplotlib.pyplot as plt\n"
   ]
  },
  {
   "cell_type": "code",
   "execution_count": 2,
   "id": "4ec1cb01",
   "metadata": {},
   "outputs": [],
   "source": [
    "df = pd.read_csv('hotel_bookings.csv')"
   ]
  },
  {
   "cell_type": "code",
   "execution_count": 3,
   "id": "d2429c03",
   "metadata": {},
   "outputs": [
    {
     "data": {
      "text/html": [
       "<div>\n",
       "<style scoped>\n",
       "    .dataframe tbody tr th:only-of-type {\n",
       "        vertical-align: middle;\n",
       "    }\n",
       "\n",
       "    .dataframe tbody tr th {\n",
       "        vertical-align: top;\n",
       "    }\n",
       "\n",
       "    .dataframe thead th {\n",
       "        text-align: right;\n",
       "    }\n",
       "</style>\n",
       "<table border=\"1\" class=\"dataframe\">\n",
       "  <thead>\n",
       "    <tr style=\"text-align: right;\">\n",
       "      <th></th>\n",
       "      <th>hotel</th>\n",
       "      <th>is_canceled</th>\n",
       "      <th>lead_time</th>\n",
       "      <th>arrival_date_month</th>\n",
       "      <th>arrival_date_week_number</th>\n",
       "      <th>meal</th>\n",
       "      <th>country</th>\n",
       "      <th>market_segment</th>\n",
       "      <th>is_repeated_guest</th>\n",
       "      <th>previous_cancellations</th>\n",
       "      <th>...</th>\n",
       "      <th>booking_changes</th>\n",
       "      <th>deposit_type</th>\n",
       "      <th>days_in_waiting_list</th>\n",
       "      <th>customer_type</th>\n",
       "      <th>adr</th>\n",
       "      <th>required_car_parking_spaces</th>\n",
       "      <th>total_of_special_requests</th>\n",
       "      <th>total_stay</th>\n",
       "      <th>guests</th>\n",
       "      <th>different_room_assigned</th>\n",
       "    </tr>\n",
       "  </thead>\n",
       "  <tbody>\n",
       "    <tr>\n",
       "      <th>0</th>\n",
       "      <td>Resort Hotel</td>\n",
       "      <td>False</td>\n",
       "      <td>342</td>\n",
       "      <td>July</td>\n",
       "      <td>27</td>\n",
       "      <td>BB</td>\n",
       "      <td>PRT</td>\n",
       "      <td>Direct</td>\n",
       "      <td>0</td>\n",
       "      <td>0</td>\n",
       "      <td>...</td>\n",
       "      <td>3</td>\n",
       "      <td>No Deposit</td>\n",
       "      <td>0</td>\n",
       "      <td>Transient</td>\n",
       "      <td>0.0</td>\n",
       "      <td>0</td>\n",
       "      <td>0</td>\n",
       "      <td>0</td>\n",
       "      <td>2.0</td>\n",
       "      <td>False</td>\n",
       "    </tr>\n",
       "    <tr>\n",
       "      <th>1</th>\n",
       "      <td>Resort Hotel</td>\n",
       "      <td>False</td>\n",
       "      <td>737</td>\n",
       "      <td>July</td>\n",
       "      <td>27</td>\n",
       "      <td>BB</td>\n",
       "      <td>PRT</td>\n",
       "      <td>Direct</td>\n",
       "      <td>0</td>\n",
       "      <td>0</td>\n",
       "      <td>...</td>\n",
       "      <td>4</td>\n",
       "      <td>No Deposit</td>\n",
       "      <td>0</td>\n",
       "      <td>Transient</td>\n",
       "      <td>0.0</td>\n",
       "      <td>0</td>\n",
       "      <td>0</td>\n",
       "      <td>0</td>\n",
       "      <td>2.0</td>\n",
       "      <td>False</td>\n",
       "    </tr>\n",
       "    <tr>\n",
       "      <th>2</th>\n",
       "      <td>Resort Hotel</td>\n",
       "      <td>False</td>\n",
       "      <td>7</td>\n",
       "      <td>July</td>\n",
       "      <td>27</td>\n",
       "      <td>BB</td>\n",
       "      <td>GBR</td>\n",
       "      <td>Direct</td>\n",
       "      <td>0</td>\n",
       "      <td>0</td>\n",
       "      <td>...</td>\n",
       "      <td>0</td>\n",
       "      <td>No Deposit</td>\n",
       "      <td>0</td>\n",
       "      <td>Transient</td>\n",
       "      <td>75.0</td>\n",
       "      <td>0</td>\n",
       "      <td>0</td>\n",
       "      <td>1</td>\n",
       "      <td>1.0</td>\n",
       "      <td>True</td>\n",
       "    </tr>\n",
       "    <tr>\n",
       "      <th>3</th>\n",
       "      <td>Resort Hotel</td>\n",
       "      <td>False</td>\n",
       "      <td>13</td>\n",
       "      <td>July</td>\n",
       "      <td>27</td>\n",
       "      <td>BB</td>\n",
       "      <td>GBR</td>\n",
       "      <td>Corporate</td>\n",
       "      <td>0</td>\n",
       "      <td>0</td>\n",
       "      <td>...</td>\n",
       "      <td>0</td>\n",
       "      <td>No Deposit</td>\n",
       "      <td>0</td>\n",
       "      <td>Transient</td>\n",
       "      <td>75.0</td>\n",
       "      <td>0</td>\n",
       "      <td>0</td>\n",
       "      <td>1</td>\n",
       "      <td>1.0</td>\n",
       "      <td>False</td>\n",
       "    </tr>\n",
       "    <tr>\n",
       "      <th>4</th>\n",
       "      <td>Resort Hotel</td>\n",
       "      <td>False</td>\n",
       "      <td>14</td>\n",
       "      <td>July</td>\n",
       "      <td>27</td>\n",
       "      <td>BB</td>\n",
       "      <td>GBR</td>\n",
       "      <td>Online TA</td>\n",
       "      <td>0</td>\n",
       "      <td>0</td>\n",
       "      <td>...</td>\n",
       "      <td>0</td>\n",
       "      <td>No Deposit</td>\n",
       "      <td>0</td>\n",
       "      <td>Transient</td>\n",
       "      <td>98.0</td>\n",
       "      <td>0</td>\n",
       "      <td>1</td>\n",
       "      <td>2</td>\n",
       "      <td>2.0</td>\n",
       "      <td>False</td>\n",
       "    </tr>\n",
       "  </tbody>\n",
       "</table>\n",
       "<p>5 rows × 21 columns</p>\n",
       "</div>"
      ],
      "text/plain": [
       "          hotel  is_canceled  lead_time arrival_date_month  \\\n",
       "0  Resort Hotel        False        342               July   \n",
       "1  Resort Hotel        False        737               July   \n",
       "2  Resort Hotel        False          7               July   \n",
       "3  Resort Hotel        False         13               July   \n",
       "4  Resort Hotel        False         14               July   \n",
       "\n",
       "   arrival_date_week_number meal country market_segment  is_repeated_guest  \\\n",
       "0                        27   BB     PRT         Direct                  0   \n",
       "1                        27   BB     PRT         Direct                  0   \n",
       "2                        27   BB     GBR         Direct                  0   \n",
       "3                        27   BB     GBR      Corporate                  0   \n",
       "4                        27   BB     GBR      Online TA                  0   \n",
       "\n",
       "   previous_cancellations  ...  booking_changes  deposit_type  \\\n",
       "0                       0  ...                3    No Deposit   \n",
       "1                       0  ...                4    No Deposit   \n",
       "2                       0  ...                0    No Deposit   \n",
       "3                       0  ...                0    No Deposit   \n",
       "4                       0  ...                0    No Deposit   \n",
       "\n",
       "  days_in_waiting_list  customer_type   adr  required_car_parking_spaces  \\\n",
       "0                    0      Transient   0.0                            0   \n",
       "1                    0      Transient   0.0                            0   \n",
       "2                    0      Transient  75.0                            0   \n",
       "3                    0      Transient  75.0                            0   \n",
       "4                    0      Transient  98.0                            0   \n",
       "\n",
       "   total_of_special_requests  total_stay  guests  different_room_assigned  \n",
       "0                          0           0     2.0                    False  \n",
       "1                          0           0     2.0                    False  \n",
       "2                          0           1     1.0                     True  \n",
       "3                          0           1     1.0                    False  \n",
       "4                          1           2     2.0                    False  \n",
       "\n",
       "[5 rows x 21 columns]"
      ]
     },
     "execution_count": 3,
     "metadata": {},
     "output_type": "execute_result"
    }
   ],
   "source": [
    "df.head()"
   ]
  },
  {
   "cell_type": "code",
   "execution_count": 4,
   "id": "9b1cdfa8",
   "metadata": {},
   "outputs": [
    {
     "data": {
      "text/plain": [
       "Transient          76684\n",
       "Transient-Party    23854\n",
       "Contract            3530\n",
       "Group                569\n",
       "Name: customer_type, dtype: int64"
      ]
     },
     "execution_count": 4,
     "metadata": {},
     "output_type": "execute_result"
    }
   ],
   "source": [
    "df['customer_type'].value_counts()"
   ]
  },
  {
   "cell_type": "code",
   "execution_count": 5,
   "id": "f6aca017",
   "metadata": {},
   "outputs": [
    {
     "data": {
      "text/plain": [
       "Online TA        56402\n",
       "Offline TA/TO    19209\n",
       "Direct           12580\n",
       "Groups           10509\n",
       "Corporate         4957\n",
       "Complementary      743\n",
       "Aviation           237\n",
       "Name: market_segment, dtype: int64"
      ]
     },
     "execution_count": 5,
     "metadata": {},
     "output_type": "execute_result"
    }
   ],
   "source": [
    "df['market_segment'].value_counts()"
   ]
  },
  {
   "cell_type": "code",
   "execution_count": 6,
   "id": "a06be3df",
   "metadata": {},
   "outputs": [
    {
     "data": {
      "text/plain": [
       "City Hotel      66438\n",
       "Resort Hotel    38199\n",
       "Name: hotel, dtype: int64"
      ]
     },
     "execution_count": 6,
     "metadata": {},
     "output_type": "execute_result"
    }
   ],
   "source": [
    "df['hotel'].value_counts()"
   ]
  },
  {
   "cell_type": "code",
   "execution_count": 7,
   "id": "4bb805fb",
   "metadata": {},
   "outputs": [
    {
     "data": {
      "text/plain": [
       "<AxesSubplot:xlabel='lead_time'>"
      ]
     },
     "execution_count": 7,
     "metadata": {},
     "output_type": "execute_result"
    },
    {
     "data": {
      "image/png": "[encoded data removed]",
      "text/plain": [
       "<Figure size 432x288 with 1 Axes>"
      ]
     },
     "metadata": {
      "needs_background": "light"
     },
     "output_type": "display_data"
    }
   ],
   "source": [
    "df.groupby('lead_time')['is_canceled'].mean().plot()"
   ]
  },
  {
   "cell_type": "code",
   "execution_count": 8,
   "id": "66b684b4",
   "metadata": {},
   "outputs": [],
   "source": [
    "df['booking_status']=df['is_canceled'].replace({True:1,False:0})"
   ]
  },
  {
   "cell_type": "code",
   "execution_count": 9,
   "id": "a25f6d47",
   "metadata": {},
   "outputs": [
    {
     "data": {
      "text/html": [
       "<div>\n",
       "<style scoped>\n",
       "    .dataframe tbody tr th:only-of-type {\n",
       "        vertical-align: middle;\n",
       "    }\n",
       "\n",
       "    .dataframe tbody tr th {\n",
       "        vertical-align: top;\n",
       "    }\n",
       "\n",
       "    .dataframe thead th {\n",
       "        text-align: right;\n",
       "    }\n",
       "</style>\n",
       "<table border=\"1\" class=\"dataframe\">\n",
       "  <thead>\n",
       "    <tr style=\"text-align: right;\">\n",
       "      <th></th>\n",
       "      <th>hotel</th>\n",
       "      <th>is_canceled</th>\n",
       "      <th>lead_time</th>\n",
       "      <th>arrival_date_month</th>\n",
       "      <th>arrival_date_week_number</th>\n",
       "      <th>meal</th>\n",
       "      <th>country</th>\n",
       "      <th>market_segment</th>\n",
       "      <th>is_repeated_guest</th>\n",
       "      <th>previous_cancellations</th>\n",
       "      <th>...</th>\n",
       "      <th>deposit_type</th>\n",
       "      <th>days_in_waiting_list</th>\n",
       "      <th>customer_type</th>\n",
       "      <th>adr</th>\n",
       "      <th>required_car_parking_spaces</th>\n",
       "      <th>total_of_special_requests</th>\n",
       "      <th>total_stay</th>\n",
       "      <th>guests</th>\n",
       "      <th>different_room_assigned</th>\n",
       "      <th>booking_status</th>\n",
       "    </tr>\n",
       "  </thead>\n",
       "  <tbody>\n",
       "    <tr>\n",
       "      <th>0</th>\n",
       "      <td>Resort Hotel</td>\n",
       "      <td>False</td>\n",
       "      <td>342</td>\n",
       "      <td>July</td>\n",
       "      <td>27</td>\n",
       "      <td>BB</td>\n",
       "      <td>PRT</td>\n",
       "      <td>Direct</td>\n",
       "      <td>0</td>\n",
       "      <td>0</td>\n",
       "      <td>...</td>\n",
       "      <td>No Deposit</td>\n",
       "      <td>0</td>\n",
       "      <td>Transient</td>\n",
       "      <td>0.00</td>\n",
       "      <td>0</td>\n",
       "      <td>0</td>\n",
       "      <td>0</td>\n",
       "      <td>2.0</td>\n",
       "      <td>False</td>\n",
       "      <td>0</td>\n",
       "    </tr>\n",
       "    <tr>\n",
       "      <th>1</th>\n",
       "      <td>Resort Hotel</td>\n",
       "      <td>False</td>\n",
       "      <td>737</td>\n",
       "      <td>July</td>\n",
       "      <td>27</td>\n",
       "      <td>BB</td>\n",
       "      <td>PRT</td>\n",
       "      <td>Direct</td>\n",
       "      <td>0</td>\n",
       "      <td>0</td>\n",
       "      <td>...</td>\n",
       "      <td>No Deposit</td>\n",
       "      <td>0</td>\n",
       "      <td>Transient</td>\n",
       "      <td>0.00</td>\n",
       "      <td>0</td>\n",
       "      <td>0</td>\n",
       "      <td>0</td>\n",
       "      <td>2.0</td>\n",
       "      <td>False</td>\n",
       "      <td>0</td>\n",
       "    </tr>\n",
       "    <tr>\n",
       "      <th>2</th>\n",
       "      <td>Resort Hotel</td>\n",
       "      <td>False</td>\n",
       "      <td>7</td>\n",
       "      <td>July</td>\n",
       "      <td>27</td>\n",
       "      <td>BB</td>\n",
       "      <td>GBR</td>\n",
       "      <td>Direct</td>\n",
       "      <td>0</td>\n",
       "      <td>0</td>\n",
       "      <td>...</td>\n",
       "      <td>No Deposit</td>\n",
       "      <td>0</td>\n",
       "      <td>Transient</td>\n",
       "      <td>75.00</td>\n",
       "      <td>0</td>\n",
       "      <td>0</td>\n",
       "      <td>1</td>\n",
       "      <td>1.0</td>\n",
       "      <td>True</td>\n",
       "      <td>0</td>\n",
       "    </tr>\n",
       "    <tr>\n",
       "      <th>3</th>\n",
       "      <td>Resort Hotel</td>\n",
       "      <td>False</td>\n",
       "      <td>13</td>\n",
       "      <td>July</td>\n",
       "      <td>27</td>\n",
       "      <td>BB</td>\n",
       "      <td>GBR</td>\n",
       "      <td>Corporate</td>\n",
       "      <td>0</td>\n",
       "      <td>0</td>\n",
       "      <td>...</td>\n",
       "      <td>No Deposit</td>\n",
       "      <td>0</td>\n",
       "      <td>Transient</td>\n",
       "      <td>75.00</td>\n",
       "      <td>0</td>\n",
       "      <td>0</td>\n",
       "      <td>1</td>\n",
       "      <td>1.0</td>\n",
       "      <td>False</td>\n",
       "      <td>0</td>\n",
       "    </tr>\n",
       "    <tr>\n",
       "      <th>4</th>\n",
       "      <td>Resort Hotel</td>\n",
       "      <td>False</td>\n",
       "      <td>14</td>\n",
       "      <td>July</td>\n",
       "      <td>27</td>\n",
       "      <td>BB</td>\n",
       "      <td>GBR</td>\n",
       "      <td>Online TA</td>\n",
       "      <td>0</td>\n",
       "      <td>0</td>\n",
       "      <td>...</td>\n",
       "      <td>No Deposit</td>\n",
       "      <td>0</td>\n",
       "      <td>Transient</td>\n",
       "      <td>98.00</td>\n",
       "      <td>0</td>\n",
       "      <td>1</td>\n",
       "      <td>2</td>\n",
       "      <td>2.0</td>\n",
       "      <td>False</td>\n",
       "      <td>0</td>\n",
       "    </tr>\n",
       "    <tr>\n",
       "      <th>...</th>\n",
       "      <td>...</td>\n",
       "      <td>...</td>\n",
       "      <td>...</td>\n",
       "      <td>...</td>\n",
       "      <td>...</td>\n",
       "      <td>...</td>\n",
       "      <td>...</td>\n",
       "      <td>...</td>\n",
       "      <td>...</td>\n",
       "      <td>...</td>\n",
       "      <td>...</td>\n",
       "      <td>...</td>\n",
       "      <td>...</td>\n",
       "      <td>...</td>\n",
       "      <td>...</td>\n",
       "      <td>...</td>\n",
       "      <td>...</td>\n",
       "      <td>...</td>\n",
       "      <td>...</td>\n",
       "      <td>...</td>\n",
       "      <td>...</td>\n",
       "    </tr>\n",
       "    <tr>\n",
       "      <th>104632</th>\n",
       "      <td>City Hotel</td>\n",
       "      <td>False</td>\n",
       "      <td>23</td>\n",
       "      <td>August</td>\n",
       "      <td>35</td>\n",
       "      <td>BB</td>\n",
       "      <td>BEL</td>\n",
       "      <td>Offline TA/TO</td>\n",
       "      <td>0</td>\n",
       "      <td>0</td>\n",
       "      <td>...</td>\n",
       "      <td>No Deposit</td>\n",
       "      <td>0</td>\n",
       "      <td>Transient</td>\n",
       "      <td>96.14</td>\n",
       "      <td>0</td>\n",
       "      <td>0</td>\n",
       "      <td>7</td>\n",
       "      <td>2.0</td>\n",
       "      <td>False</td>\n",
       "      <td>0</td>\n",
       "    </tr>\n",
       "    <tr>\n",
       "      <th>104633</th>\n",
       "      <td>City Hotel</td>\n",
       "      <td>False</td>\n",
       "      <td>102</td>\n",
       "      <td>August</td>\n",
       "      <td>35</td>\n",
       "      <td>BB</td>\n",
       "      <td>FRA</td>\n",
       "      <td>Online TA</td>\n",
       "      <td>0</td>\n",
       "      <td>0</td>\n",
       "      <td>...</td>\n",
       "      <td>No Deposit</td>\n",
       "      <td>0</td>\n",
       "      <td>Transient</td>\n",
       "      <td>225.43</td>\n",
       "      <td>0</td>\n",
       "      <td>2</td>\n",
       "      <td>7</td>\n",
       "      <td>3.0</td>\n",
       "      <td>False</td>\n",
       "      <td>0</td>\n",
       "    </tr>\n",
       "    <tr>\n",
       "      <th>104634</th>\n",
       "      <td>City Hotel</td>\n",
       "      <td>False</td>\n",
       "      <td>34</td>\n",
       "      <td>August</td>\n",
       "      <td>35</td>\n",
       "      <td>BB</td>\n",
       "      <td>DEU</td>\n",
       "      <td>Online TA</td>\n",
       "      <td>0</td>\n",
       "      <td>0</td>\n",
       "      <td>...</td>\n",
       "      <td>No Deposit</td>\n",
       "      <td>0</td>\n",
       "      <td>Transient</td>\n",
       "      <td>157.71</td>\n",
       "      <td>0</td>\n",
       "      <td>4</td>\n",
       "      <td>7</td>\n",
       "      <td>2.0</td>\n",
       "      <td>False</td>\n",
       "      <td>0</td>\n",
       "    </tr>\n",
       "    <tr>\n",
       "      <th>104635</th>\n",
       "      <td>City Hotel</td>\n",
       "      <td>False</td>\n",
       "      <td>109</td>\n",
       "      <td>August</td>\n",
       "      <td>35</td>\n",
       "      <td>BB</td>\n",
       "      <td>GBR</td>\n",
       "      <td>Online TA</td>\n",
       "      <td>0</td>\n",
       "      <td>0</td>\n",
       "      <td>...</td>\n",
       "      <td>No Deposit</td>\n",
       "      <td>0</td>\n",
       "      <td>Transient</td>\n",
       "      <td>104.40</td>\n",
       "      <td>0</td>\n",
       "      <td>0</td>\n",
       "      <td>7</td>\n",
       "      <td>2.0</td>\n",
       "      <td>False</td>\n",
       "      <td>0</td>\n",
       "    </tr>\n",
       "    <tr>\n",
       "      <th>104636</th>\n",
       "      <td>City Hotel</td>\n",
       "      <td>False</td>\n",
       "      <td>205</td>\n",
       "      <td>August</td>\n",
       "      <td>35</td>\n",
       "      <td>HB</td>\n",
       "      <td>DEU</td>\n",
       "      <td>Online TA</td>\n",
       "      <td>0</td>\n",
       "      <td>0</td>\n",
       "      <td>...</td>\n",
       "      <td>No Deposit</td>\n",
       "      <td>0</td>\n",
       "      <td>Transient</td>\n",
       "      <td>151.20</td>\n",
       "      <td>0</td>\n",
       "      <td>2</td>\n",
       "      <td>9</td>\n",
       "      <td>2.0</td>\n",
       "      <td>False</td>\n",
       "      <td>0</td>\n",
       "    </tr>\n",
       "  </tbody>\n",
       "</table>\n",
       "<p>104637 rows × 22 columns</p>\n",
       "</div>"
      ],
      "text/plain": [
       "               hotel  is_canceled  lead_time arrival_date_month  \\\n",
       "0       Resort Hotel        False        342               July   \n",
       "1       Resort Hotel        False        737               July   \n",
       "2       Resort Hotel        False          7               July   \n",
       "3       Resort Hotel        False         13               July   \n",
       "4       Resort Hotel        False         14               July   \n",
       "...              ...          ...        ...                ...   \n",
       "104632    City Hotel        False         23             August   \n",
       "104633    City Hotel        False        102             August   \n",
       "104634    City Hotel        False         34             August   \n",
       "104635    City Hotel        False        109             August   \n",
       "104636    City Hotel        False        205             August   \n",
       "\n",
       "        arrival_date_week_number meal country market_segment  \\\n",
       "0                             27   BB     PRT         Direct   \n",
       "1                             27   BB     PRT         Direct   \n",
       "2                             27   BB     GBR         Direct   \n",
       "3                             27   BB     GBR      Corporate   \n",
       "4                             27   BB     GBR      Online TA   \n",
       "...                          ...  ...     ...            ...   \n",
       "104632                        35   BB     BEL  Offline TA/TO   \n",
       "104633                        35   BB     FRA      Online TA   \n",
       "104634                        35   BB     DEU      Online TA   \n",
       "104635                        35   BB     GBR      Online TA   \n",
       "104636                        35   HB     DEU      Online TA   \n",
       "\n",
       "        is_repeated_guest  previous_cancellations  ...  deposit_type  \\\n",
       "0                       0                       0  ...    No Deposit   \n",
       "1                       0                       0  ...    No Deposit   \n",
       "2                       0                       0  ...    No Deposit   \n",
       "3                       0                       0  ...    No Deposit   \n",
       "4                       0                       0  ...    No Deposit   \n",
       "...                   ...                     ...  ...           ...   \n",
       "104632                  0                       0  ...    No Deposit   \n",
       "104633                  0                       0  ...    No Deposit   \n",
       "104634                  0                       0  ...    No Deposit   \n",
       "104635                  0                       0  ...    No Deposit   \n",
       "104636                  0                       0  ...    No Deposit   \n",
       "\n",
       "        days_in_waiting_list customer_type     adr  \\\n",
       "0                          0     Transient    0.00   \n",
       "1                          0     Transient    0.00   \n",
       "2                          0     Transient   75.00   \n",
       "3                          0     Transient   75.00   \n",
       "4                          0     Transient   98.00   \n",
       "...                      ...           ...     ...   \n",
       "104632                     0     Transient   96.14   \n",
       "104633                     0     Transient  225.43   \n",
       "104634                     0     Transient  157.71   \n",
       "104635                     0     Transient  104.40   \n",
       "104636                     0     Transient  151.20   \n",
       "\n",
       "       required_car_parking_spaces  total_of_special_requests  total_stay  \\\n",
       "0                                0                          0           0   \n",
       "1                                0                          0           0   \n",
       "2                                0                          0           1   \n",
       "3                                0                          0           1   \n",
       "4                                0                          1           2   \n",
       "...                            ...                        ...         ...   \n",
       "104632                           0                          0           7   \n",
       "104633                           0                          2           7   \n",
       "104634                           0                          4           7   \n",
       "104635                           0                          0           7   \n",
       "104636                           0                          2           9   \n",
       "\n",
       "        guests  different_room_assigned  booking_status  \n",
       "0          2.0                    False               0  \n",
       "1          2.0                    False               0  \n",
       "2          1.0                     True               0  \n",
       "3          1.0                    False               0  \n",
       "4          2.0                    False               0  \n",
       "...        ...                      ...             ...  \n",
       "104632     2.0                    False               0  \n",
       "104633     3.0                    False               0  \n",
       "104634     2.0                    False               0  \n",
       "104635     2.0                    False               0  \n",
       "104636     2.0                    False               0  \n",
       "\n",
       "[104637 rows x 22 columns]"
      ]
     },
     "execution_count": 9,
     "metadata": {},
     "output_type": "execute_result"
    }
   ],
   "source": [
    "df"
   ]
  },
  {
   "cell_type": "code",
   "execution_count": 10,
   "id": "fe12d912",
   "metadata": {},
   "outputs": [],
   "source": [
    "df['different_room_assigned']=df['different_room_assigned'].replace({True:1,False:0})"
   ]
  },
  {
   "cell_type": "code",
   "execution_count": 11,
   "id": "015e74c6",
   "metadata": {},
   "outputs": [
    {
     "data": {
      "text/html": [
       "<div>\n",
       "<style scoped>\n",
       "    .dataframe tbody tr th:only-of-type {\n",
       "        vertical-align: middle;\n",
       "    }\n",
       "\n",
       "    .dataframe tbody tr th {\n",
       "        vertical-align: top;\n",
       "    }\n",
       "\n",
       "    .dataframe thead th {\n",
       "        text-align: right;\n",
       "    }\n",
       "</style>\n",
       "<table border=\"1\" class=\"dataframe\">\n",
       "  <thead>\n",
       "    <tr style=\"text-align: right;\">\n",
       "      <th></th>\n",
       "      <th>hotel</th>\n",
       "      <th>is_canceled</th>\n",
       "      <th>lead_time</th>\n",
       "      <th>arrival_date_month</th>\n",
       "      <th>arrival_date_week_number</th>\n",
       "      <th>meal</th>\n",
       "      <th>country</th>\n",
       "      <th>market_segment</th>\n",
       "      <th>is_repeated_guest</th>\n",
       "      <th>previous_cancellations</th>\n",
       "      <th>...</th>\n",
       "      <th>deposit_type</th>\n",
       "      <th>days_in_waiting_list</th>\n",
       "      <th>customer_type</th>\n",
       "      <th>adr</th>\n",
       "      <th>required_car_parking_spaces</th>\n",
       "      <th>total_of_special_requests</th>\n",
       "      <th>total_stay</th>\n",
       "      <th>guests</th>\n",
       "      <th>different_room_assigned</th>\n",
       "      <th>booking_status</th>\n",
       "    </tr>\n",
       "  </thead>\n",
       "  <tbody>\n",
       "    <tr>\n",
       "      <th>0</th>\n",
       "      <td>Resort Hotel</td>\n",
       "      <td>False</td>\n",
       "      <td>342</td>\n",
       "      <td>July</td>\n",
       "      <td>27</td>\n",
       "      <td>BB</td>\n",
       "      <td>PRT</td>\n",
       "      <td>Direct</td>\n",
       "      <td>0</td>\n",
       "      <td>0</td>\n",
       "      <td>...</td>\n",
       "      <td>No Deposit</td>\n",
       "      <td>0</td>\n",
       "      <td>Transient</td>\n",
       "      <td>0.00</td>\n",
       "      <td>0</td>\n",
       "      <td>0</td>\n",
       "      <td>0</td>\n",
       "      <td>2.0</td>\n",
       "      <td>0</td>\n",
       "      <td>0</td>\n",
       "    </tr>\n",
       "    <tr>\n",
       "      <th>1</th>\n",
       "      <td>Resort Hotel</td>\n",
       "      <td>False</td>\n",
       "      <td>737</td>\n",
       "      <td>July</td>\n",
       "      <td>27</td>\n",
       "      <td>BB</td>\n",
       "      <td>PRT</td>\n",
       "      <td>Direct</td>\n",
       "      <td>0</td>\n",
       "      <td>0</td>\n",
       "      <td>...</td>\n",
       "      <td>No Deposit</td>\n",
       "      <td>0</td>\n",
       "      <td>Transient</td>\n",
       "      <td>0.00</td>\n",
       "      <td>0</td>\n",
       "      <td>0</td>\n",
       "      <td>0</td>\n",
       "      <td>2.0</td>\n",
       "      <td>0</td>\n",
       "      <td>0</td>\n",
       "    </tr>\n",
       "    <tr>\n",
       "      <th>2</th>\n",
       "      <td>Resort Hotel</td>\n",
       "      <td>False</td>\n",
       "      <td>7</td>\n",
       "      <td>July</td>\n",
       "      <td>27</td>\n",
       "      <td>BB</td>\n",
       "      <td>GBR</td>\n",
       "      <td>Direct</td>\n",
       "      <td>0</td>\n",
       "      <td>0</td>\n",
       "      <td>...</td>\n",
       "      <td>No Deposit</td>\n",
       "      <td>0</td>\n",
       "      <td>Transient</td>\n",
       "      <td>75.00</td>\n",
       "      <td>0</td>\n",
       "      <td>0</td>\n",
       "      <td>1</td>\n",
       "      <td>1.0</td>\n",
       "      <td>1</td>\n",
       "      <td>0</td>\n",
       "    </tr>\n",
       "    <tr>\n",
       "      <th>3</th>\n",
       "      <td>Resort Hotel</td>\n",
       "      <td>False</td>\n",
       "      <td>13</td>\n",
       "      <td>July</td>\n",
       "      <td>27</td>\n",
       "      <td>BB</td>\n",
       "      <td>GBR</td>\n",
       "      <td>Corporate</td>\n",
       "      <td>0</td>\n",
       "      <td>0</td>\n",
       "      <td>...</td>\n",
       "      <td>No Deposit</td>\n",
       "      <td>0</td>\n",
       "      <td>Transient</td>\n",
       "      <td>75.00</td>\n",
       "      <td>0</td>\n",
       "      <td>0</td>\n",
       "      <td>1</td>\n",
       "      <td>1.0</td>\n",
       "      <td>0</td>\n",
       "      <td>0</td>\n",
       "    </tr>\n",
       "    <tr>\n",
       "      <th>4</th>\n",
       "      <td>Resort Hotel</td>\n",
       "      <td>False</td>\n",
       "      <td>14</td>\n",
       "      <td>July</td>\n",
       "      <td>27</td>\n",
       "      <td>BB</td>\n",
       "      <td>GBR</td>\n",
       "      <td>Online TA</td>\n",
       "      <td>0</td>\n",
       "      <td>0</td>\n",
       "      <td>...</td>\n",
       "      <td>No Deposit</td>\n",
       "      <td>0</td>\n",
       "      <td>Transient</td>\n",
       "      <td>98.00</td>\n",
       "      <td>0</td>\n",
       "      <td>1</td>\n",
       "      <td>2</td>\n",
       "      <td>2.0</td>\n",
       "      <td>0</td>\n",
       "      <td>0</td>\n",
       "    </tr>\n",
       "    <tr>\n",
       "      <th>...</th>\n",
       "      <td>...</td>\n",
       "      <td>...</td>\n",
       "      <td>...</td>\n",
       "      <td>...</td>\n",
       "      <td>...</td>\n",
       "      <td>...</td>\n",
       "      <td>...</td>\n",
       "      <td>...</td>\n",
       "      <td>...</td>\n",
       "      <td>...</td>\n",
       "      <td>...</td>\n",
       "      <td>...</td>\n",
       "      <td>...</td>\n",
       "      <td>...</td>\n",
       "      <td>...</td>\n",
       "      <td>...</td>\n",
       "      <td>...</td>\n",
       "      <td>...</td>\n",
       "      <td>...</td>\n",
       "      <td>...</td>\n",
       "      <td>...</td>\n",
       "    </tr>\n",
       "    <tr>\n",
       "      <th>104632</th>\n",
       "      <td>City Hotel</td>\n",
       "      <td>False</td>\n",
       "      <td>23</td>\n",
       "      <td>August</td>\n",
       "      <td>35</td>\n",
       "      <td>BB</td>\n",
       "      <td>BEL</td>\n",
       "      <td>Offline TA/TO</td>\n",
       "      <td>0</td>\n",
       "      <td>0</td>\n",
       "      <td>...</td>\n",
       "      <td>No Deposit</td>\n",
       "      <td>0</td>\n",
       "      <td>Transient</td>\n",
       "      <td>96.14</td>\n",
       "      <td>0</td>\n",
       "      <td>0</td>\n",
       "      <td>7</td>\n",
       "      <td>2.0</td>\n",
       "      <td>0</td>\n",
       "      <td>0</td>\n",
       "    </tr>\n",
       "    <tr>\n",
       "      <th>104633</th>\n",
       "      <td>City Hotel</td>\n",
       "      <td>False</td>\n",
       "      <td>102</td>\n",
       "      <td>August</td>\n",
       "      <td>35</td>\n",
       "      <td>BB</td>\n",
       "      <td>FRA</td>\n",
       "      <td>Online TA</td>\n",
       "      <td>0</td>\n",
       "      <td>0</td>\n",
       "      <td>...</td>\n",
       "      <td>No Deposit</td>\n",
       "      <td>0</td>\n",
       "      <td>Transient</td>\n",
       "      <td>225.43</td>\n",
       "      <td>0</td>\n",
       "      <td>2</td>\n",
       "      <td>7</td>\n",
       "      <td>3.0</td>\n",
       "      <td>0</td>\n",
       "      <td>0</td>\n",
       "    </tr>\n",
       "    <tr>\n",
       "      <th>104634</th>\n",
       "      <td>City Hotel</td>\n",
       "      <td>False</td>\n",
       "      <td>34</td>\n",
       "      <td>August</td>\n",
       "      <td>35</td>\n",
       "      <td>BB</td>\n",
       "      <td>DEU</td>\n",
       "      <td>Online TA</td>\n",
       "      <td>0</td>\n",
       "      <td>0</td>\n",
       "      <td>...</td>\n",
       "      <td>No Deposit</td>\n",
       "      <td>0</td>\n",
       "      <td>Transient</td>\n",
       "      <td>157.71</td>\n",
       "      <td>0</td>\n",
       "      <td>4</td>\n",
       "      <td>7</td>\n",
       "      <td>2.0</td>\n",
       "      <td>0</td>\n",
       "      <td>0</td>\n",
       "    </tr>\n",
       "    <tr>\n",
       "      <th>104635</th>\n",
       "      <td>City Hotel</td>\n",
       "      <td>False</td>\n",
       "      <td>109</td>\n",
       "      <td>August</td>\n",
       "      <td>35</td>\n",
       "      <td>BB</td>\n",
       "      <td>GBR</td>\n",
       "      <td>Online TA</td>\n",
       "      <td>0</td>\n",
       "      <td>0</td>\n",
       "      <td>...</td>\n",
       "      <td>No Deposit</td>\n",
       "      <td>0</td>\n",
       "      <td>Transient</td>\n",
       "      <td>104.40</td>\n",
       "      <td>0</td>\n",
       "      <td>0</td>\n",
       "      <td>7</td>\n",
       "      <td>2.0</td>\n",
       "      <td>0</td>\n",
       "      <td>0</td>\n",
       "    </tr>\n",
       "    <tr>\n",
       "      <th>104636</th>\n",
       "      <td>City Hotel</td>\n",
       "      <td>False</td>\n",
       "      <td>205</td>\n",
       "      <td>August</td>\n",
       "      <td>35</td>\n",
       "      <td>HB</td>\n",
       "      <td>DEU</td>\n",
       "      <td>Online TA</td>\n",
       "      <td>0</td>\n",
       "      <td>0</td>\n",
       "      <td>...</td>\n",
       "      <td>No Deposit</td>\n",
       "      <td>0</td>\n",
       "      <td>Transient</td>\n",
       "      <td>151.20</td>\n",
       "      <td>0</td>\n",
       "      <td>2</td>\n",
       "      <td>9</td>\n",
       "      <td>2.0</td>\n",
       "      <td>0</td>\n",
       "      <td>0</td>\n",
       "    </tr>\n",
       "  </tbody>\n",
       "</table>\n",
       "<p>104637 rows × 22 columns</p>\n",
       "</div>"
      ],
      "text/plain": [
       "               hotel  is_canceled  lead_time arrival_date_month  \\\n",
       "0       Resort Hotel        False        342               July   \n",
       "1       Resort Hotel        False        737               July   \n",
       "2       Resort Hotel        False          7               July   \n",
       "3       Resort Hotel        False         13               July   \n",
       "4       Resort Hotel        False         14               July   \n",
       "...              ...          ...        ...                ...   \n",
       "104632    City Hotel        False         23             August   \n",
       "104633    City Hotel        False        102             August   \n",
       "104634    City Hotel        False         34             August   \n",
       "104635    City Hotel        False        109             August   \n",
       "104636    City Hotel        False        205             August   \n",
       "\n",
       "        arrival_date_week_number meal country market_segment  \\\n",
       "0                             27   BB     PRT         Direct   \n",
       "1                             27   BB     PRT         Direct   \n",
       "2                             27   BB     GBR         Direct   \n",
       "3                             27   BB     GBR      Corporate   \n",
       "4                             27   BB     GBR      Online TA   \n",
       "...                          ...  ...     ...            ...   \n",
       "104632                        35   BB     BEL  Offline TA/TO   \n",
       "104633                        35   BB     FRA      Online TA   \n",
       "104634                        35   BB     DEU      Online TA   \n",
       "104635                        35   BB     GBR      Online TA   \n",
       "104636                        35   HB     DEU      Online TA   \n",
       "\n",
       "        is_repeated_guest  previous_cancellations  ...  deposit_type  \\\n",
       "0                       0                       0  ...    No Deposit   \n",
       "1                       0                       0  ...    No Deposit   \n",
       "2                       0                       0  ...    No Deposit   \n",
       "3                       0                       0  ...    No Deposit   \n",
       "4                       0                       0  ...    No Deposit   \n",
       "...                   ...                     ...  ...           ...   \n",
       "104632                  0                       0  ...    No Deposit   \n",
       "104633                  0                       0  ...    No Deposit   \n",
       "104634                  0                       0  ...    No Deposit   \n",
       "104635                  0                       0  ...    No Deposit   \n",
       "104636                  0                       0  ...    No Deposit   \n",
       "\n",
       "        days_in_waiting_list customer_type     adr  \\\n",
       "0                          0     Transient    0.00   \n",
       "1                          0     Transient    0.00   \n",
       "2                          0     Transient   75.00   \n",
       "3                          0     Transient   75.00   \n",
       "4                          0     Transient   98.00   \n",
       "...                      ...           ...     ...   \n",
       "104632                     0     Transient   96.14   \n",
       "104633                     0     Transient  225.43   \n",
       "104634                     0     Transient  157.71   \n",
       "104635                     0     Transient  104.40   \n",
       "104636                     0     Transient  151.20   \n",
       "\n",
       "       required_car_parking_spaces  total_of_special_requests  total_stay  \\\n",
       "0                                0                          0           0   \n",
       "1                                0                          0           0   \n",
       "2                                0                          0           1   \n",
       "3                                0                          0           1   \n",
       "4                                0                          1           2   \n",
       "...                            ...                        ...         ...   \n",
       "104632                           0                          0           7   \n",
       "104633                           0                          2           7   \n",
       "104634                           0                          4           7   \n",
       "104635                           0                          0           7   \n",
       "104636                           0                          2           9   \n",
       "\n",
       "        guests  different_room_assigned  booking_status  \n",
       "0          2.0                        0               0  \n",
       "1          2.0                        0               0  \n",
       "2          1.0                        1               0  \n",
       "3          1.0                        0               0  \n",
       "4          2.0                        0               0  \n",
       "...        ...                      ...             ...  \n",
       "104632     2.0                        0               0  \n",
       "104633     3.0                        0               0  \n",
       "104634     2.0                        0               0  \n",
       "104635     2.0                        0               0  \n",
       "104636     2.0                        0               0  \n",
       "\n",
       "[104637 rows x 22 columns]"
      ]
     },
     "execution_count": 11,
     "metadata": {},
     "output_type": "execute_result"
    }
   ],
   "source": [
    "df"
   ]
  },
  {
   "cell_type": "code",
   "execution_count": 12,
   "id": "e1c971bf",
   "metadata": {},
   "outputs": [
    {
     "data": {
      "text/plain": [
       "Transient          76684\n",
       "Transient-Party    23854\n",
       "Contract            3530\n",
       "Group                569\n",
       "Name: customer_type, dtype: int64"
      ]
     },
     "execution_count": 12,
     "metadata": {},
     "output_type": "execute_result"
    }
   ],
   "source": [
    "df['customer_type'].value_counts()"
   ]
  },
  {
   "cell_type": "code",
   "execution_count": 13,
   "id": "2c54d099",
   "metadata": {},
   "outputs": [
    {
     "data": {
      "text/plain": [
       "<AxesSubplot:xlabel='lead_time'>"
      ]
     },
     "execution_count": 13,
     "metadata": {},
     "output_type": "execute_result"
    },
    {
     "data": {
      "image/png": "[encoded data removed]",
      "text/plain": [
       "<Figure size 432x288 with 1 Axes>"
      ]
     },
     "metadata": {
      "needs_background": "light"
     },
     "output_type": "display_data"
    }
   ],
   "source": [
    "df.groupby('lead_time')['booking_status'].mean().plot()"
   ]
  },
  {
   "cell_type": "code",
   "execution_count": 19,
   "id": "2e02b674",
   "metadata": {},
   "outputs": [
    {
     "data": {
      "text/plain": [
       "0         0\n",
       "1         0\n",
       "2         1\n",
       "3         0\n",
       "4         0\n",
       "         ..\n",
       "104632    0\n",
       "104633    0\n",
       "104634    0\n",
       "104635    0\n",
       "104636    0\n",
       "Name: different_room_assigned, Length: 104637, dtype: int64"
      ]
     },
     "execution_count": 19,
     "metadata": {},
     "output_type": "execute_result"
    }
   ],
   "source": [
    "df['different_room_assigned']"
   ]
  },
  {
   "cell_type": "code",
   "execution_count": 20,
   "id": "4925b52e",
   "metadata": {},
   "outputs": [
    {
     "data": {
      "text/plain": [
       "Index(['hotel', 'is_canceled', 'lead_time', 'arrival_date_month',\n",
       "       'arrival_date_week_number', 'meal', 'country', 'market_segment',\n",
       "       'is_repeated_guest', 'previous_cancellations',\n",
       "       'previous_bookings_not_canceled', 'booking_changes', 'deposit_type',\n",
       "       'days_in_waiting_list', 'customer_type', 'adr',\n",
       "       'required_car_parking_spaces', 'total_of_special_requests',\n",
       "       'total_stay', 'guests', 'different_room_assigned', 'booking_status'],\n",
       "      dtype='object')"
      ]
     },
     "execution_count": 20,
     "metadata": {},
     "output_type": "execute_result"
    }
   ],
   "source": [
    "df.columns"
   ]
  },
  {
   "cell_type": "code",
   "execution_count": 21,
   "id": "0ac915e1",
   "metadata": {},
   "outputs": [
    {
     "data": {
      "text/plain": [
       "0     101799\n",
       "1       2519\n",
       "2        116\n",
       "3         65\n",
       "11        35\n",
       "4         31\n",
       "24        24\n",
       "5         19\n",
       "6         16\n",
       "13        12\n",
       "21         1\n",
       "Name: previous_cancellations, dtype: int64"
      ]
     },
     "execution_count": 21,
     "metadata": {},
     "output_type": "execute_result"
    }
   ],
   "source": [
    "df['previous_cancellations'].value_counts()"
   ]
  },
  {
   "cell_type": "code",
   "execution_count": 22,
   "id": "53d9d40a",
   "metadata": {},
   "outputs": [
    {
     "data": {
      "text/plain": [
       "0     101032\n",
       "1       1536\n",
       "2        580\n",
       "3        333\n",
       "4        229\n",
       "       ...  \n",
       "47         1\n",
       "49         1\n",
       "50         1\n",
       "51         1\n",
       "72         1\n",
       "Name: previous_bookings_not_canceled, Length: 73, dtype: int64"
      ]
     },
     "execution_count": 22,
     "metadata": {},
     "output_type": "execute_result"
    }
   ],
   "source": [
    "df['previous_bookings_not_canceled'].value_counts()"
   ]
  },
  {
   "cell_type": "code",
   "execution_count": 23,
   "id": "73ac1b85",
   "metadata": {},
   "outputs": [
    {
     "data": {
      "text/plain": [
       "0     86795\n",
       "1     12502\n",
       "2      3777\n",
       "3       922\n",
       "4       374\n",
       "5       118\n",
       "6        63\n",
       "7        31\n",
       "8        17\n",
       "9         8\n",
       "10        6\n",
       "13        5\n",
       "14        5\n",
       "15        3\n",
       "16        2\n",
       "17        2\n",
       "12        2\n",
       "11        2\n",
       "20        1\n",
       "21        1\n",
       "18        1\n",
       "Name: booking_changes, dtype: int64"
      ]
     },
     "execution_count": 23,
     "metadata": {},
     "output_type": "execute_result"
    }
   ],
   "source": [
    "df['booking_changes'].value_counts()"
   ]
  },
  {
   "cell_type": "code",
   "execution_count": 21,
   "id": "e215beda",
   "metadata": {},
   "outputs": [],
   "source": [
    "df=df.drop('is_canceled',axis=1)"
   ]
  },
  {
   "cell_type": "code",
   "execution_count": 22,
   "id": "2ad1ebd9",
   "metadata": {},
   "outputs": [],
   "source": [
    "df=df.drop('deposit_type',axis=1)"
   ]
  },
  {
   "cell_type": "code",
   "execution_count": 27,
   "id": "f3accb18",
   "metadata": {},
   "outputs": [],
   "source": [
    "df = pd.get_dummies(df,prefix=['hotel','meal','country','market_segment','customer_type'],columns=['hotel','meal','country','market_segment','customer_type'])"
   ]
  },
  {
   "cell_type": "code",
   "execution_count": 28,
   "id": "f1bfdca3",
   "metadata": {},
   "outputs": [
    {
     "data": {
      "text/plain": [
       "0         0\n",
       "1         0\n",
       "2         0\n",
       "3         0\n",
       "4         0\n",
       "         ..\n",
       "104632    0\n",
       "104633    0\n",
       "104634    0\n",
       "104635    0\n",
       "104636    0\n",
       "Name: booking_status, Length: 104637, dtype: int64"
      ]
     },
     "execution_count": 28,
     "metadata": {},
     "output_type": "execute_result"
    }
   ],
   "source": [
    "df['booking_status']"
   ]
  },
  {
   "cell_type": "code",
   "execution_count": 29,
   "id": "7c3d3f39",
   "metadata": {},
   "outputs": [
    {
     "data": {
      "text/plain": [
       "0         0\n",
       "1         0\n",
       "2         0\n",
       "3         0\n",
       "4         0\n",
       "         ..\n",
       "104632    0\n",
       "104633    0\n",
       "104634    0\n",
       "104635    0\n",
       "104636    0\n",
       "Name: booking_status, Length: 104637, dtype: int64"
      ]
     },
     "execution_count": 29,
     "metadata": {},
     "output_type": "execute_result"
    }
   ],
   "source": [
    "df['booking_status']"
   ]
  },
  {
   "cell_type": "code",
   "execution_count": 30,
   "id": "63a80a80",
   "metadata": {},
   "outputs": [
    {
     "data": {
      "text/plain": [
       "Index(['lead_time', 'arrival_date_month', 'arrival_date_week_number',\n",
       "       'is_repeated_guest', 'previous_cancellations',\n",
       "       'previous_bookings_not_canceled', 'booking_changes',\n",
       "       'days_in_waiting_list', 'adr', 'required_car_parking_spaces',\n",
       "       ...\n",
       "       'market_segment_Complementary', 'market_segment_Corporate',\n",
       "       'market_segment_Direct', 'market_segment_Groups',\n",
       "       'market_segment_Offline TA/TO', 'market_segment_Online TA',\n",
       "       'customer_type_Contract', 'customer_type_Group',\n",
       "       'customer_type_Transient', 'customer_type_Transient-Party'],\n",
       "      dtype='object', length=210)"
      ]
     },
     "execution_count": 30,
     "metadata": {},
     "output_type": "execute_result"
    }
   ],
   "source": [
    "df.columns"
   ]
  },
  {
   "cell_type": "code",
   "execution_count": 31,
   "id": "330c90f1",
   "metadata": {},
   "outputs": [],
   "source": [
    "from sklearn.neighbors import KNeighborsClassifier\n"
   ]
  },
  {
   "cell_type": "code",
   "execution_count": 32,
   "id": "f8c0f620",
   "metadata": {},
   "outputs": [
    {
     "data": {
      "text/plain": [
       "0           July\n",
       "1           July\n",
       "2           July\n",
       "3           July\n",
       "4           July\n",
       "           ...  \n",
       "104632    August\n",
       "104633    August\n",
       "104634    August\n",
       "104635    August\n",
       "104636    August\n",
       "Name: arrival_date_month, Length: 104637, dtype: object"
      ]
     },
     "execution_count": 32,
     "metadata": {},
     "output_type": "execute_result"
    }
   ],
   "source": [
    "df['arrival_date_month']"
   ]
  },
  {
   "cell_type": "code",
   "execution_count": 33,
   "id": "8d670745",
   "metadata": {},
   "outputs": [
    {
     "data": {
      "text/plain": [
       "0         27\n",
       "1         27\n",
       "2         27\n",
       "3         27\n",
       "4         27\n",
       "          ..\n",
       "104632    35\n",
       "104633    35\n",
       "104634    35\n",
       "104635    35\n",
       "104636    35\n",
       "Name: arrival_date_week_number, Length: 104637, dtype: int64"
      ]
     },
     "execution_count": 33,
     "metadata": {},
     "output_type": "execute_result"
    }
   ],
   "source": [
    "df['arrival_date_week_number']"
   ]
  },
  {
   "cell_type": "code",
   "execution_count": 34,
   "id": "9c8d7178",
   "metadata": {},
   "outputs": [],
   "source": [
    "from sklearn.model_selection import train_test_split"
   ]
  },
  {
   "cell_type": "code",
   "execution_count": 35,
   "id": "9195d883",
   "metadata": {},
   "outputs": [],
   "source": [
    "X=df.drop(['booking_status','arrival_date_month','arrival_date_week_number'],axis=1)"
   ]
  },
  {
   "cell_type": "code",
   "execution_count": 36,
   "id": "b180fb8a",
   "metadata": {},
   "outputs": [],
   "source": [
    "y=df['booking_status']"
   ]
  },
  {
   "cell_type": "code",
   "execution_count": 37,
   "id": "698623eb",
   "metadata": {},
   "outputs": [],
   "source": [
    "X_train, X_test, y_train, y_test = train_test_split(\n",
    "...     X, y, test_size=0.33,stratify=y, random_state=101)"
   ]
  },
  {
   "cell_type": "code",
   "execution_count": 38,
   "id": "2f72e970",
   "metadata": {},
   "outputs": [],
   "source": [
    "from sklearn.preprocessing import StandardScaler"
   ]
  },
  {
   "cell_type": "code",
   "execution_count": 39,
   "id": "5cf44405",
   "metadata": {},
   "outputs": [],
   "source": [
    "scaler = StandardScaler()"
   ]
  },
  {
   "cell_type": "code",
   "execution_count": 78,
   "id": "4db83731",
   "metadata": {},
   "outputs": [],
   "source": [
    "to_scale=['previous_cancellations','previous_bookings_not_canceled','booking_changes','adr','days_in_waiting_list','lead_time','is_repeated_guest','total_of_special_requests','total_stay','guests']"
   ]
  },
  {
   "cell_type": "code",
   "execution_count": 79,
   "id": "920fa52f",
   "metadata": {},
   "outputs": [
    {
     "data": {
      "text/html": [
       "<div>\n",
       "<style scoped>\n",
       "    .dataframe tbody tr th:only-of-type {\n",
       "        vertical-align: middle;\n",
       "    }\n",
       "\n",
       "    .dataframe tbody tr th {\n",
       "        vertical-align: top;\n",
       "    }\n",
       "\n",
       "    .dataframe thead th {\n",
       "        text-align: right;\n",
       "    }\n",
       "</style>\n",
       "<table border=\"1\" class=\"dataframe\">\n",
       "  <thead>\n",
       "    <tr style=\"text-align: right;\">\n",
       "      <th></th>\n",
       "      <th>lead_time</th>\n",
       "      <th>is_repeated_guest</th>\n",
       "      <th>previous_cancellations</th>\n",
       "      <th>previous_bookings_not_canceled</th>\n",
       "      <th>booking_changes</th>\n",
       "      <th>days_in_waiting_list</th>\n",
       "      <th>adr</th>\n",
       "      <th>required_car_parking_spaces</th>\n",
       "      <th>total_of_special_requests</th>\n",
       "      <th>total_stay</th>\n",
       "      <th>guests</th>\n",
       "      <th>different_room_assigned</th>\n",
       "    </tr>\n",
       "  </thead>\n",
       "  <tbody>\n",
       "    <tr>\n",
       "      <th>82517</th>\n",
       "      <td>45</td>\n",
       "      <td>0</td>\n",
       "      <td>-0.086604</td>\n",
       "      <td>-0.099535</td>\n",
       "      <td>-0.367028</td>\n",
       "      <td>0</td>\n",
       "      <td>162.79</td>\n",
       "      <td>0</td>\n",
       "      <td>2</td>\n",
       "      <td>4</td>\n",
       "      <td>3.0</td>\n",
       "      <td>0</td>\n",
       "    </tr>\n",
       "    <tr>\n",
       "      <th>50184</th>\n",
       "      <td>75</td>\n",
       "      <td>0</td>\n",
       "      <td>-0.086604</td>\n",
       "      <td>-0.099535</td>\n",
       "      <td>-0.367028</td>\n",
       "      <td>0</td>\n",
       "      <td>118.15</td>\n",
       "      <td>0</td>\n",
       "      <td>2</td>\n",
       "      <td>1</td>\n",
       "      <td>2.0</td>\n",
       "      <td>0</td>\n",
       "    </tr>\n",
       "    <tr>\n",
       "      <th>56179</th>\n",
       "      <td>52</td>\n",
       "      <td>0</td>\n",
       "      <td>-0.086604</td>\n",
       "      <td>-0.099535</td>\n",
       "      <td>-0.367028</td>\n",
       "      <td>0</td>\n",
       "      <td>142.20</td>\n",
       "      <td>0</td>\n",
       "      <td>0</td>\n",
       "      <td>2</td>\n",
       "      <td>4.0</td>\n",
       "      <td>0</td>\n",
       "    </tr>\n",
       "    <tr>\n",
       "      <th>96343</th>\n",
       "      <td>159</td>\n",
       "      <td>0</td>\n",
       "      <td>-0.086604</td>\n",
       "      <td>-0.099535</td>\n",
       "      <td>-0.367028</td>\n",
       "      <td>0</td>\n",
       "      <td>108.00</td>\n",
       "      <td>0</td>\n",
       "      <td>1</td>\n",
       "      <td>3</td>\n",
       "      <td>2.0</td>\n",
       "      <td>0</td>\n",
       "    </tr>\n",
       "    <tr>\n",
       "      <th>14264</th>\n",
       "      <td>157</td>\n",
       "      <td>0</td>\n",
       "      <td>-0.086604</td>\n",
       "      <td>-0.099535</td>\n",
       "      <td>-0.367028</td>\n",
       "      <td>0</td>\n",
       "      <td>134.00</td>\n",
       "      <td>0</td>\n",
       "      <td>1</td>\n",
       "      <td>7</td>\n",
       "      <td>2.0</td>\n",
       "      <td>0</td>\n",
       "    </tr>\n",
       "    <tr>\n",
       "      <th>...</th>\n",
       "      <td>...</td>\n",
       "      <td>...</td>\n",
       "      <td>...</td>\n",
       "      <td>...</td>\n",
       "      <td>...</td>\n",
       "      <td>...</td>\n",
       "      <td>...</td>\n",
       "      <td>...</td>\n",
       "      <td>...</td>\n",
       "      <td>...</td>\n",
       "      <td>...</td>\n",
       "      <td>...</td>\n",
       "    </tr>\n",
       "    <tr>\n",
       "      <th>16684</th>\n",
       "      <td>2</td>\n",
       "      <td>0</td>\n",
       "      <td>-0.086604</td>\n",
       "      <td>-0.099535</td>\n",
       "      <td>-0.367028</td>\n",
       "      <td>0</td>\n",
       "      <td>31.00</td>\n",
       "      <td>1</td>\n",
       "      <td>0</td>\n",
       "      <td>1</td>\n",
       "      <td>1.0</td>\n",
       "      <td>1</td>\n",
       "    </tr>\n",
       "    <tr>\n",
       "      <th>46228</th>\n",
       "      <td>40</td>\n",
       "      <td>0</td>\n",
       "      <td>-0.086604</td>\n",
       "      <td>-0.099535</td>\n",
       "      <td>2.544689</td>\n",
       "      <td>0</td>\n",
       "      <td>114.30</td>\n",
       "      <td>0</td>\n",
       "      <td>0</td>\n",
       "      <td>2</td>\n",
       "      <td>2.0</td>\n",
       "      <td>0</td>\n",
       "    </tr>\n",
       "    <tr>\n",
       "      <th>81583</th>\n",
       "      <td>141</td>\n",
       "      <td>0</td>\n",
       "      <td>-0.086604</td>\n",
       "      <td>-0.099535</td>\n",
       "      <td>-0.367028</td>\n",
       "      <td>0</td>\n",
       "      <td>85.50</td>\n",
       "      <td>0</td>\n",
       "      <td>2</td>\n",
       "      <td>3</td>\n",
       "      <td>2.0</td>\n",
       "      <td>0</td>\n",
       "    </tr>\n",
       "    <tr>\n",
       "      <th>91856</th>\n",
       "      <td>197</td>\n",
       "      <td>0</td>\n",
       "      <td>-0.086604</td>\n",
       "      <td>-0.099535</td>\n",
       "      <td>-0.367028</td>\n",
       "      <td>0</td>\n",
       "      <td>65.45</td>\n",
       "      <td>0</td>\n",
       "      <td>1</td>\n",
       "      <td>5</td>\n",
       "      <td>2.0</td>\n",
       "      <td>0</td>\n",
       "    </tr>\n",
       "    <tr>\n",
       "      <th>30643</th>\n",
       "      <td>7</td>\n",
       "      <td>0</td>\n",
       "      <td>-0.086604</td>\n",
       "      <td>-0.099535</td>\n",
       "      <td>-0.367028</td>\n",
       "      <td>0</td>\n",
       "      <td>56.00</td>\n",
       "      <td>1</td>\n",
       "      <td>1</td>\n",
       "      <td>2</td>\n",
       "      <td>2.0</td>\n",
       "      <td>1</td>\n",
       "    </tr>\n",
       "  </tbody>\n",
       "</table>\n",
       "<p>70106 rows × 12 columns</p>\n",
       "</div>"
      ],
      "text/plain": [
       "       lead_time  is_repeated_guest  previous_cancellations  \\\n",
       "82517         45                  0               -0.086604   \n",
       "50184         75                  0               -0.086604   \n",
       "56179         52                  0               -0.086604   \n",
       "96343        159                  0               -0.086604   \n",
       "14264        157                  0               -0.086604   \n",
       "...          ...                ...                     ...   \n",
       "16684          2                  0               -0.086604   \n",
       "46228         40                  0               -0.086604   \n",
       "81583        141                  0               -0.086604   \n",
       "91856        197                  0               -0.086604   \n",
       "30643          7                  0               -0.086604   \n",
       "\n",
       "       previous_bookings_not_canceled  booking_changes  days_in_waiting_list  \\\n",
       "82517                       -0.099535        -0.367028                     0   \n",
       "50184                       -0.099535        -0.367028                     0   \n",
       "56179                       -0.099535        -0.367028                     0   \n",
       "96343                       -0.099535        -0.367028                     0   \n",
       "14264                       -0.099535        -0.367028                     0   \n",
       "...                               ...              ...                   ...   \n",
       "16684                       -0.099535        -0.367028                     0   \n",
       "46228                       -0.099535         2.544689                     0   \n",
       "81583                       -0.099535        -0.367028                     0   \n",
       "91856                       -0.099535        -0.367028                     0   \n",
       "30643                       -0.099535        -0.367028                     0   \n",
       "\n",
       "          adr  required_car_parking_spaces  total_of_special_requests  \\\n",
       "82517  162.79                            0                          2   \n",
       "50184  118.15                            0                          2   \n",
       "56179  142.20                            0                          0   \n",
       "96343  108.00                            0                          1   \n",
       "14264  134.00                            0                          1   \n",
       "...       ...                          ...                        ...   \n",
       "16684   31.00                            1                          0   \n",
       "46228  114.30                            0                          0   \n",
       "81583   85.50                            0                          2   \n",
       "91856   65.45                            0                          1   \n",
       "30643   56.00                            1                          1   \n",
       "\n",
       "       total_stay  guests  different_room_assigned  \n",
       "82517           4     3.0                        0  \n",
       "50184           1     2.0                        0  \n",
       "56179           2     4.0                        0  \n",
       "96343           3     2.0                        0  \n",
       "14264           7     2.0                        0  \n",
       "...           ...     ...                      ...  \n",
       "16684           1     1.0                        1  \n",
       "46228           2     2.0                        0  \n",
       "81583           3     2.0                        0  \n",
       "91856           5     2.0                        0  \n",
       "30643           2     2.0                        1  \n",
       "\n",
       "[70106 rows x 12 columns]"
      ]
     },
     "execution_count": 79,
     "metadata": {},
     "output_type": "execute_result"
    }
   ],
   "source": [
    "X_train.select_dtypes(['int','float'])"
   ]
  },
  {
   "cell_type": "code",
   "execution_count": 80,
   "id": "17bb6596",
   "metadata": {},
   "outputs": [],
   "source": [
    "X_train[to_scale] = scaler.fit_transform(X_train[to_scale])"
   ]
  },
  {
   "cell_type": "code",
   "execution_count": 81,
   "id": "318b31a3",
   "metadata": {},
   "outputs": [],
   "source": [
    "X_test[to_scale]= scaler.transform(X_test[to_scale])"
   ]
  },
  {
   "cell_type": "code",
   "execution_count": 82,
   "id": "e49e1b63",
   "metadata": {},
   "outputs": [],
   "source": [
    "error_rate = []\n",
    "for k in range(1,10):\n",
    "    knn = KNeighborsClassifier(n_neighbors=k)\n",
    "    knn.fit(X_train,y_train)\n",
    "    pred_i = knn.predict(X_test)\n",
    "    error_rate.append(np.mean(pred_i != y_test))\n",
    "\n",
    "    "
   ]
  },
  {
   "cell_type": "code",
   "execution_count": 83,
   "id": "30f747ad",
   "metadata": {},
   "outputs": [
    {
     "data": {
      "text/plain": [
       "Text(0, 0.5, 'Error Rate')"
      ]
     },
     "execution_count": 83,
     "metadata": {},
     "output_type": "execute_result"
    },
    {
     "data": {
      "image/png": "[encoded data removed]",
      "text/plain": [
       "<Figure size 720x432 with 1 Axes>"
      ]
     },
     "metadata": {
      "needs_background": "light"
     },
     "output_type": "display_data"
    }
   ],
   "source": [
    "plt.figure(figsize=(10,6))\n",
    "plt.plot(range(1,10),error_rate,color='blue', linestyle='dashed', \n",
    "         marker='o',markerfacecolor='red', markersize=10)\n",
    "plt.title('Error Rate vs. K Value')\n",
    "plt.xlabel('K')\n",
    "plt.ylabel('Error Rate')"
   ]
  },
  {
   "cell_type": "code",
   "execution_count": 84,
   "id": "49ec6760",
   "metadata": {},
   "outputs": [],
   "source": [
    "from sklearn.ensemble import RandomForestClassifier"
   ]
  },
  {
   "cell_type": "code",
   "execution_count": 85,
   "id": "50c2bdb0",
   "metadata": {},
   "outputs": [],
   "source": [
    "rf = RandomForestClassifier()"
   ]
  },
  {
   "cell_type": "code",
   "execution_count": 86,
   "id": "6996f53f",
   "metadata": {},
   "outputs": [
    {
     "data": {
      "text/plain": [
       "RandomForestClassifier()"
      ]
     },
     "execution_count": 86,
     "metadata": {},
     "output_type": "execute_result"
    }
   ],
   "source": [
    "rf.fit(X_train,y_train)"
   ]
  },
  {
   "cell_type": "code",
   "execution_count": 87,
   "id": "97181cbd",
   "metadata": {},
   "outputs": [
    {
     "data": {
      "text/plain": [
       "0.9948934470658717"
      ]
     },
     "execution_count": 87,
     "metadata": {},
     "output_type": "execute_result"
    }
   ],
   "source": [
    "rf.score(X_train,y_train)"
   ]
  },
  {
   "cell_type": "code",
   "execution_count": 88,
   "id": "c854b0e7",
   "metadata": {},
   "outputs": [
    {
     "data": {
      "text/plain": [
       "0.8576062089137297"
      ]
     },
     "execution_count": 88,
     "metadata": {},
     "output_type": "execute_result"
    }
   ],
   "source": [
    "rf.score(X_test,y_test)"
   ]
  },
  {
   "cell_type": "code",
   "execution_count": 89,
   "id": "0a5cf346",
   "metadata": {},
   "outputs": [],
   "source": [
    "from sklearn.linear_model import LogisticRegression"
   ]
  },
  {
   "cell_type": "code",
   "execution_count": 90,
   "id": "24a60b17",
   "metadata": {},
   "outputs": [],
   "source": [
    "lg = LogisticRegression()"
   ]
  },
  {
   "cell_type": "code",
   "execution_count": 91,
   "id": "4cf15d39",
   "metadata": {},
   "outputs": [
    {
     "name": "stderr",
     "output_type": "stream",
     "text": [
      "C:\\Users\\Hakim Aljanabi\\anaconda3\\lib\\site-packages\\sklearn\\linear_model\\_logistic.py:814: ConvergenceWarning: lbfgs failed to converge (status=1):\n",
      "STOP: TOTAL NO. of ITERATIONS REACHED LIMIT.\n",
      "\n",
      "Increase the number of iterations (max_iter) or scale the data as shown in:\n",
      "    https://scikit-learn.org/stable/modules/preprocessing.html\n",
      "Please also refer to the documentation for alternative solver options:\n",
      "    https://scikit-learn.org/stable/modules/linear_model.html#logistic-regression\n",
      "  n_iter_i = _check_optimize_result(\n"
     ]
    },
    {
     "data": {
      "text/plain": [
       "LogisticRegression()"
      ]
     },
     "execution_count": 91,
     "metadata": {},
     "output_type": "execute_result"
    }
   ],
   "source": [
    "lg.fit(X_train,y_train)"
   ]
  },
  {
   "cell_type": "code",
   "execution_count": 92,
   "id": "c23d27bd",
   "metadata": {},
   "outputs": [
    {
     "data": {
      "text/plain": [
       "0.7922156902493411"
      ]
     },
     "execution_count": 92,
     "metadata": {},
     "output_type": "execute_result"
    }
   ],
   "source": [
    "lg.score(X_test,y_test)"
   ]
  },
  {
   "cell_type": "code",
   "execution_count": 93,
   "id": "f15913f2",
   "metadata": {},
   "outputs": [],
   "source": [
    "from sklearn.tree import DecisionTreeClassifier"
   ]
  },
  {
   "cell_type": "code",
   "execution_count": 94,
   "id": "293cad10",
   "metadata": {},
   "outputs": [],
   "source": [
    "tree=DecisionTreeClassifier()"
   ]
  },
  {
   "cell_type": "code",
   "execution_count": 95,
   "id": "84700df6",
   "metadata": {},
   "outputs": [
    {
     "data": {
      "text/plain": [
       "DecisionTreeClassifier()"
      ]
     },
     "execution_count": 95,
     "metadata": {},
     "output_type": "execute_result"
    }
   ],
   "source": [
    "tree.fit(X_train,y_train)"
   ]
  },
  {
   "cell_type": "code",
   "execution_count": 96,
   "id": "bab092cb",
   "metadata": {},
   "outputs": [
    {
     "data": {
      "text/plain": [
       "0.8229996235266862"
      ]
     },
     "execution_count": 96,
     "metadata": {},
     "output_type": "execute_result"
    }
   ],
   "source": [
    "tree.score(X_test,y_test)"
   ]
  },
  {
   "cell_type": "code",
   "execution_count": 97,
   "id": "deba927b",
   "metadata": {},
   "outputs": [],
   "source": [
    "from sklearn.model_selection import GridSearchCV "
   ]
  },
  {
   "cell_type": "code",
   "execution_count": 98,
   "id": "4513f3bb",
   "metadata": {},
   "outputs": [
    {
     "name": "stdout",
     "output_type": "stream",
     "text": [
      "Fitting 5 folds for each of 48 candidates, totalling 240 fits\n"
     ]
    },
    {
     "data": {
      "text/plain": [
       "{'min_samples_leaf': 1, 'min_samples_split': 4, 'n_estimators': 500}"
      ]
     },
     "execution_count": 98,
     "metadata": {},
     "output_type": "execute_result"
    }
   ],
   "source": [
    "model_rfc_gs = RandomForestClassifier()\n",
    "parameters_rfc = {\n",
    "'n_estimators' : [100,200,500],\n",
    "'min_samples_split' : [2,4,6,8],\n",
    "'min_samples_leaf': [1,2,4,6]}\n",
    "\n",
    "grid_search_rfc = GridSearchCV(estimator=model_rfc_gs, param_grid=parameters_rfc,\n",
    "                           cv=5, scoring='f1', verbose=True, n_jobs=-1)\n",
    "grid_search_rfc.fit(X_train, y_train)\n",
    "grid_search_rfc.best_params_"
   ]
  },
  {
   "cell_type": "code",
   "execution_count": 107,
   "id": "8f6454ec",
   "metadata": {},
   "outputs": [],
   "source": [
    "rf = RandomForestClassifier(n_estimators=500,min_samples_split=4,min_samples_leaf=1)"
   ]
  },
  {
   "cell_type": "code",
   "execution_count": 108,
   "id": "de6bd335",
   "metadata": {},
   "outputs": [
    {
     "data": {
      "text/plain": [
       "RandomForestClassifier(min_samples_split=4, n_estimators=500)"
      ]
     },
     "execution_count": 108,
     "metadata": {},
     "output_type": "execute_result"
    }
   ],
   "source": [
    "rf.fit(X_train,y_train)"
   ]
  },
  {
   "cell_type": "code",
   "execution_count": 109,
   "id": "cc6a8df4",
   "metadata": {},
   "outputs": [
    {
     "data": {
      "text/plain": [
       "0.8596044134256176"
      ]
     },
     "execution_count": 109,
     "metadata": {},
     "output_type": "execute_result"
    }
   ],
   "source": [
    "rf.score(X_test,y_test)"
   ]
  },
  {
   "cell_type": "code",
   "execution_count": 110,
   "id": "8b109234",
   "metadata": {},
   "outputs": [
    {
     "data": {
      "text/plain": [
       "0.980201409294497"
      ]
     },
     "execution_count": 110,
     "metadata": {},
     "output_type": "execute_result"
    }
   ],
   "source": [
    "rf.score(X_train,y_train)"
   ]
  },
  {
   "cell_type": "code",
   "execution_count": 111,
   "id": "90d60abf",
   "metadata": {},
   "outputs": [],
   "source": [
    "predictions=rf.predict(X_test)"
   ]
  },
  {
   "cell_type": "code",
   "execution_count": 112,
   "id": "4d5730ab",
   "metadata": {},
   "outputs": [],
   "source": [
    "from sklearn.metrics import confusion_matrix,classification_report"
   ]
  },
  {
   "cell_type": "code",
   "execution_count": 113,
   "id": "80e6fb3c",
   "metadata": {},
   "outputs": [
    {
     "name": "stdout",
     "output_type": "stream",
     "text": [
      "              precision    recall  f1-score   support\n",
      "\n",
      "           0       0.89      0.92      0.90     24733\n",
      "           1       0.78      0.70      0.74      9798\n",
      "\n",
      "    accuracy                           0.86     34531\n",
      "   macro avg       0.83      0.81      0.82     34531\n",
      "weighted avg       0.86      0.86      0.86     34531\n",
      "\n",
      "[[22848  1885]\n",
      " [ 2963  6835]]\n"
     ]
    }
   ],
   "source": [
    "print(classification_report(y_test,predictions))\n",
    "print(confusion_matrix(y_test,predictions))"
   ]
  },
  {
   "cell_type": "code",
   "execution_count": 114,
   "id": "321ea35a",
   "metadata": {},
   "outputs": [
    {
     "data": {
      "text/plain": [
       "[0.19185659262691496,\n",
       " 0.18030175784078076,\n",
       " 0.1867597231473169,\n",
       " 0.17746372824418638,\n",
       " 0.1806782311546147,\n",
       " 0.17766644464394313,\n",
       " 0.18108366395412817,\n",
       " 0.17769540412962265,\n",
       " 0.1778112420723408]"
      ]
     },
     "execution_count": 114,
     "metadata": {},
     "output_type": "execute_result"
    }
   ],
   "source": [
    "error_rate\n"
   ]
  },
  {
   "cell_type": "code",
   "execution_count": null,
   "id": "14c84d95",
   "metadata": {},
   "outputs": [],
   "source": []
  }
 ],
 "metadata": {
  "kernelspec": {
   "display_name": "Python 3 (ipykernel)",
   "language": "python",
   "name": "python3"
  },
  "language_info": {
   "codemirror_mode": {
    "name": "ipython",
    "version": 3
   },
   "file_extension": ".py",
   "mimetype": "text/x-python",
   "name": "python",
   "nbconvert_exporter": "python",
   "pygments_lexer": "ipython3",
   "version": "3.9.12"
  }
 },
 "nbformat": 4,
 "nbformat_minor": 5
}
